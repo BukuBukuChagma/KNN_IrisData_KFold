{
  "nbformat": 4,
  "nbformat_minor": 0,
  "metadata": {
    "colab": {
      "name": "ML_LabMID_048.ipynb",
      "provenance": [],
      "collapsed_sections": []
    },
    "kernelspec": {
      "name": "python3",
      "display_name": "Python 3"
    },
    "language_info": {
      "name": "python"
    }
  },
  "cells": [
    {
      "cell_type": "code",
      "execution_count": 80,
      "metadata": {
        "id": "Zeh6zA6oxGRG"
      },
      "outputs": [],
      "source": [
        "import numpy as np\n",
        "import pandas as pd\n",
        "import seaborn as sns\n",
        "import matplotlib.pyplot as plt\n",
        "from sklearn.metrics import confusion_matrix\n",
        "from sklearn.model_selection import train_test_split\n",
        "from sklearn.metrics import confusion_matrix\n",
        "from sklearn.neighbors import KNeighborsClassifier\n",
        "from sklearn.model_selection import KFold\n",
        "from sklearn.metrics import classification_report"
      ]
    },
    {
      "cell_type": "code",
      "source": [
        "url = '/content/drive/MyDrive/ColabData/Iris.csv'\n",
        "Dataset = pd.read_csv(url)\n",
        "Dataset = Dataset.sample(frac=1).reset_index(drop=True)\n",
        "Dataset"
      ],
      "metadata": {
        "colab": {
          "base_uri": "https://localhost:8080/",
          "height": 423
        },
        "id": "tgutJ2a8yHHV",
        "outputId": "c65c4b2b-5fbf-4a7b-c8f2-3a91fb7a1ae6"
      },
      "execution_count": 81,
      "outputs": [
        {
          "output_type": "execute_result",
          "data": {
            "text/plain": [
              "     Petal Length  Petal Width  Sepal Length  Sepal Width            Class\n",
              "0             6.5          3.2           5.1          2.0   Iris-virginica\n",
              "1             7.7          3.0           6.1          2.3   Iris-virginica\n",
              "2             6.7          2.5           5.8          1.8   Iris-virginica\n",
              "3             4.9          2.5           4.5          1.7   Iris-virginica\n",
              "4             4.7          3.2           1.6          0.2      Iris-setosa\n",
              "..            ...          ...           ...          ...              ...\n",
              "145           6.8          2.8           4.8          1.4  Iris-versicolor\n",
              "146           7.2          3.0           5.8          1.6   Iris-virginica\n",
              "147           5.5          2.3           4.0          1.3  Iris-versicolor\n",
              "148           7.0          3.2           4.7          1.4  Iris-versicolor\n",
              "149           5.4          3.4           1.5          0.4      Iris-setosa\n",
              "\n",
              "[150 rows x 5 columns]"
            ],
            "text/html": [
              "\n",
              "  <div id=\"df-1a46a754-17e1-4ca4-9e52-b26890a7a490\">\n",
              "    <div class=\"colab-df-container\">\n",
              "      <div>\n",
              "<style scoped>\n",
              "    .dataframe tbody tr th:only-of-type {\n",
              "        vertical-align: middle;\n",
              "    }\n",
              "\n",
              "    .dataframe tbody tr th {\n",
              "        vertical-align: top;\n",
              "    }\n",
              "\n",
              "    .dataframe thead th {\n",
              "        text-align: right;\n",
              "    }\n",
              "</style>\n",
              "<table border=\"1\" class=\"dataframe\">\n",
              "  <thead>\n",
              "    <tr style=\"text-align: right;\">\n",
              "      <th></th>\n",
              "      <th>Petal Length</th>\n",
              "      <th>Petal Width</th>\n",
              "      <th>Sepal Length</th>\n",
              "      <th>Sepal Width</th>\n",
              "      <th>Class</th>\n",
              "    </tr>\n",
              "  </thead>\n",
              "  <tbody>\n",
              "    <tr>\n",
              "      <th>0</th>\n",
              "      <td>6.5</td>\n",
              "      <td>3.2</td>\n",
              "      <td>5.1</td>\n",
              "      <td>2.0</td>\n",
              "      <td>Iris-virginica</td>\n",
              "    </tr>\n",
              "    <tr>\n",
              "      <th>1</th>\n",
              "      <td>7.7</td>\n",
              "      <td>3.0</td>\n",
              "      <td>6.1</td>\n",
              "      <td>2.3</td>\n",
              "      <td>Iris-virginica</td>\n",
              "    </tr>\n",
              "    <tr>\n",
              "      <th>2</th>\n",
              "      <td>6.7</td>\n",
              "      <td>2.5</td>\n",
              "      <td>5.8</td>\n",
              "      <td>1.8</td>\n",
              "      <td>Iris-virginica</td>\n",
              "    </tr>\n",
              "    <tr>\n",
              "      <th>3</th>\n",
              "      <td>4.9</td>\n",
              "      <td>2.5</td>\n",
              "      <td>4.5</td>\n",
              "      <td>1.7</td>\n",
              "      <td>Iris-virginica</td>\n",
              "    </tr>\n",
              "    <tr>\n",
              "      <th>4</th>\n",
              "      <td>4.7</td>\n",
              "      <td>3.2</td>\n",
              "      <td>1.6</td>\n",
              "      <td>0.2</td>\n",
              "      <td>Iris-setosa</td>\n",
              "    </tr>\n",
              "    <tr>\n",
              "      <th>...</th>\n",
              "      <td>...</td>\n",
              "      <td>...</td>\n",
              "      <td>...</td>\n",
              "      <td>...</td>\n",
              "      <td>...</td>\n",
              "    </tr>\n",
              "    <tr>\n",
              "      <th>145</th>\n",
              "      <td>6.8</td>\n",
              "      <td>2.8</td>\n",
              "      <td>4.8</td>\n",
              "      <td>1.4</td>\n",
              "      <td>Iris-versicolor</td>\n",
              "    </tr>\n",
              "    <tr>\n",
              "      <th>146</th>\n",
              "      <td>7.2</td>\n",
              "      <td>3.0</td>\n",
              "      <td>5.8</td>\n",
              "      <td>1.6</td>\n",
              "      <td>Iris-virginica</td>\n",
              "    </tr>\n",
              "    <tr>\n",
              "      <th>147</th>\n",
              "      <td>5.5</td>\n",
              "      <td>2.3</td>\n",
              "      <td>4.0</td>\n",
              "      <td>1.3</td>\n",
              "      <td>Iris-versicolor</td>\n",
              "    </tr>\n",
              "    <tr>\n",
              "      <th>148</th>\n",
              "      <td>7.0</td>\n",
              "      <td>3.2</td>\n",
              "      <td>4.7</td>\n",
              "      <td>1.4</td>\n",
              "      <td>Iris-versicolor</td>\n",
              "    </tr>\n",
              "    <tr>\n",
              "      <th>149</th>\n",
              "      <td>5.4</td>\n",
              "      <td>3.4</td>\n",
              "      <td>1.5</td>\n",
              "      <td>0.4</td>\n",
              "      <td>Iris-setosa</td>\n",
              "    </tr>\n",
              "  </tbody>\n",
              "</table>\n",
              "<p>150 rows × 5 columns</p>\n",
              "</div>\n",
              "      <button class=\"colab-df-convert\" onclick=\"convertToInteractive('df-1a46a754-17e1-4ca4-9e52-b26890a7a490')\"\n",
              "              title=\"Convert this dataframe to an interactive table.\"\n",
              "              style=\"display:none;\">\n",
              "        \n",
              "  <svg xmlns=\"http://www.w3.org/2000/svg\" height=\"24px\"viewBox=\"0 0 24 24\"\n",
              "       width=\"24px\">\n",
              "    <path d=\"M0 0h24v24H0V0z\" fill=\"none\"/>\n",
              "    <path d=\"M18.56 5.44l.94 2.06.94-2.06 2.06-.94-2.06-.94-.94-2.06-.94 2.06-2.06.94zm-11 1L8.5 8.5l.94-2.06 2.06-.94-2.06-.94L8.5 2.5l-.94 2.06-2.06.94zm10 10l.94 2.06.94-2.06 2.06-.94-2.06-.94-.94-2.06-.94 2.06-2.06.94z\"/><path d=\"M17.41 7.96l-1.37-1.37c-.4-.4-.92-.59-1.43-.59-.52 0-1.04.2-1.43.59L10.3 9.45l-7.72 7.72c-.78.78-.78 2.05 0 2.83L4 21.41c.39.39.9.59 1.41.59.51 0 1.02-.2 1.41-.59l7.78-7.78 2.81-2.81c.8-.78.8-2.07 0-2.86zM5.41 20L4 18.59l7.72-7.72 1.47 1.35L5.41 20z\"/>\n",
              "  </svg>\n",
              "      </button>\n",
              "      \n",
              "  <style>\n",
              "    .colab-df-container {\n",
              "      display:flex;\n",
              "      flex-wrap:wrap;\n",
              "      gap: 12px;\n",
              "    }\n",
              "\n",
              "    .colab-df-convert {\n",
              "      background-color: #E8F0FE;\n",
              "      border: none;\n",
              "      border-radius: 50%;\n",
              "      cursor: pointer;\n",
              "      display: none;\n",
              "      fill: #1967D2;\n",
              "      height: 32px;\n",
              "      padding: 0 0 0 0;\n",
              "      width: 32px;\n",
              "    }\n",
              "\n",
              "    .colab-df-convert:hover {\n",
              "      background-color: #E2EBFA;\n",
              "      box-shadow: 0px 1px 2px rgba(60, 64, 67, 0.3), 0px 1px 3px 1px rgba(60, 64, 67, 0.15);\n",
              "      fill: #174EA6;\n",
              "    }\n",
              "\n",
              "    [theme=dark] .colab-df-convert {\n",
              "      background-color: #3B4455;\n",
              "      fill: #D2E3FC;\n",
              "    }\n",
              "\n",
              "    [theme=dark] .colab-df-convert:hover {\n",
              "      background-color: #434B5C;\n",
              "      box-shadow: 0px 1px 3px 1px rgba(0, 0, 0, 0.15);\n",
              "      filter: drop-shadow(0px 1px 2px rgba(0, 0, 0, 0.3));\n",
              "      fill: #FFFFFF;\n",
              "    }\n",
              "  </style>\n",
              "\n",
              "      <script>\n",
              "        const buttonEl =\n",
              "          document.querySelector('#df-1a46a754-17e1-4ca4-9e52-b26890a7a490 button.colab-df-convert');\n",
              "        buttonEl.style.display =\n",
              "          google.colab.kernel.accessAllowed ? 'block' : 'none';\n",
              "\n",
              "        async function convertToInteractive(key) {\n",
              "          const element = document.querySelector('#df-1a46a754-17e1-4ca4-9e52-b26890a7a490');\n",
              "          const dataTable =\n",
              "            await google.colab.kernel.invokeFunction('convertToInteractive',\n",
              "                                                     [key], {});\n",
              "          if (!dataTable) return;\n",
              "\n",
              "          const docLinkHtml = 'Like what you see? Visit the ' +\n",
              "            '<a target=\"_blank\" href=https://colab.research.google.com/notebooks/data_table.ipynb>data table notebook</a>'\n",
              "            + ' to learn more about interactive tables.';\n",
              "          element.innerHTML = '';\n",
              "          dataTable['output_type'] = 'display_data';\n",
              "          await google.colab.output.renderOutput(dataTable, element);\n",
              "          const docLink = document.createElement('div');\n",
              "          docLink.innerHTML = docLinkHtml;\n",
              "          element.appendChild(docLink);\n",
              "        }\n",
              "      </script>\n",
              "    </div>\n",
              "  </div>\n",
              "  "
            ]
          },
          "metadata": {},
          "execution_count": 81
        }
      ]
    },
    {
      "cell_type": "code",
      "source": [
        "inputFeature = (Dataset.iloc[:,:-1])\n",
        "outputFeature = (Dataset.iloc[:,-1])\n",
        "\n",
        "print(\"Shape of Input Feature : \", np.shape(inputFeature))\n",
        "print(\"Shape of OutputFeature : \", np.shape(outputFeature))"
      ],
      "metadata": {
        "colab": {
          "base_uri": "https://localhost:8080/"
        },
        "id": "UNyGRlPDx3eb",
        "outputId": "48fa65c4-2f2b-46f8-98b9-5fa257b21110"
      },
      "execution_count": 82,
      "outputs": [
        {
          "output_type": "stream",
          "name": "stdout",
          "text": [
            "Shape of Input Feature :  (150, 4)\n",
            "Shape of OutputFeature :  (150,)\n"
          ]
        }
      ]
    },
    {
      "cell_type": "code",
      "source": [
        "training_X,testing_X, training_Y, testing_Y = train_test_split(inputFeature, outputFeature, test_size=0.2, random_state= 25)\n",
        "training_X = training_X.reset_index(drop=True)\n",
        "training_Y = training_Y.reset_index(drop=True)\n",
        "testing_X = testing_X.reset_index(drop = True)\n",
        "testing_Y = testing_Y.reset_index(drop = True)\n",
        "\n",
        "print(\"Shape of Training_X : \", np.shape(training_X))\n",
        "print(\"Shape of Training_Y : \", np.shape(training_Y))\n",
        "print(\"Shape of Testing_X : \", np.shape(testing_X))\n",
        "print(\"Shape of Testing_Y : \", np.shape(testing_X))"
      ],
      "metadata": {
        "colab": {
          "base_uri": "https://localhost:8080/"
        },
        "id": "iC1FQyLuy8iL",
        "outputId": "84d8b6a1-c136-45d4-cfa0-7f32dd648304"
      },
      "execution_count": 83,
      "outputs": [
        {
          "output_type": "stream",
          "name": "stdout",
          "text": [
            "Shape of Training_X :  (120, 4)\n",
            "Shape of Training_Y :  (120,)\n",
            "Shape of Testing_X :  (30, 4)\n",
            "Shape of Testing_Y :  (30, 4)\n"
          ]
        }
      ]
    },
    {
      "cell_type": "markdown",
      "source": [
        "#USING SKLEARN"
      ],
      "metadata": {
        "id": "C4AlnixTEx5a"
      }
    },
    {
      "cell_type": "code",
      "source": [
        "def KNN_Using_Sklearn(xtrain, xtest, ytrain, k):\n",
        "  neigh = KNeighborsClassifier(n_neighbors=k)\n",
        "  neigh.fit(xtrain, ytrain)\n",
        "  return neigh.predict(xtest)\n",
        "\n",
        "def KFold_Using_Sklearn(inputFeature, outputFeature, k):\n",
        "  acclist = list()\n",
        "  kf = KFold(n_splits=5, random_state=None, shuffle=False)\n",
        "  for train_index, test_index in kf.split(inputFeature):\n",
        "    X_train, X_test = inputFeature.iloc[train_index], inputFeature.iloc[test_index]\n",
        "    y_train, y_test = outputFeature.iloc[train_index], outputFeature.iloc[test_index]\n",
        "    confMatrix = confusion_matrix(y_test , KNN_Using_Sklearn(X_train, X_test,y_train, k))\n",
        "    acclist.append(np.round((((confMatrix[0,0] + confMatrix[1,1] + confMatrix[2,2])/np.sum(confMatrix)) * 100), 2))\n",
        "\n",
        "  return np.average(acclist)"
      ],
      "metadata": {
        "id": "i2988unV1ehb"
      },
      "execution_count": 84,
      "outputs": []
    },
    {
      "cell_type": "code",
      "source": [
        "Klist = list(range(1,45,2))\n",
        "K_accuracy = list()\n",
        "for K in Klist:\n",
        "  K_accuracy.append(KFold_Using_Sklearn(inputFeature,outputFeature, K))\n",
        "\n",
        "print(K_accuracy)\n",
        "plt.plot([str(x) for x in Klist], K_accuracy)\n",
        "plt.xlabel('K')\n",
        "plt.ylabel('Accuracy')\n",
        "plt.title('Comparing Change in Accuracy w.r.t K')\n",
        "plt.show()"
      ],
      "metadata": {
        "colab": {
          "base_uri": "https://localhost:8080/",
          "height": 333
        },
        "id": "1ghwKbjmz6Ki",
        "outputId": "a6697216-5daf-4a0e-fdf7-749254eb2f89"
      },
      "execution_count": 85,
      "outputs": [
        {
          "output_type": "stream",
          "name": "stdout",
          "text": [
            "[96.0, 96.0, 96.668, 96.00200000000001, 96.00200000000001, 96.00200000000001, 96.00200000000001, 96.668, 97.334, 96.00200000000001, 92.668, 94.0, 94.00200000000001, 95.334, 95.334, 94.0, 95.334, 95.334, 96.0, 96.0, 94.666, 94.0]\n"
          ]
        },
        {
          "output_type": "display_data",
          "data": {
            "text/plain": [
              "<Figure size 432x288 with 1 Axes>"
            ],
            "image/png": "[encoded data removed]"
          },
          "metadata": {
            "needs_background": "light"
          }
        }
      ]
    },
    {
      "cell_type": "code",
      "source": [
        "K=Klist[np.argmax(K_accuracy)] #best K\n",
        "K"
      ],
      "metadata": {
        "colab": {
          "base_uri": "https://localhost:8080/"
        },
        "id": "hLdcrHGi7LQS",
        "outputId": "66664a77-5e2c-49d5-878f-544605ce397d"
      },
      "execution_count": 86,
      "outputs": [
        {
          "output_type": "execute_result",
          "data": {
            "text/plain": [
              "17"
            ]
          },
          "metadata": {},
          "execution_count": 86
        }
      ]
    },
    {
      "cell_type": "code",
      "source": [
        "pridiction = KNN_Using_Sklearn(training_X, testing_X, training_Y, K)\n",
        "confMatrix = confusion_matrix(testing_Y, pridiction)\n",
        "sns.heatmap(confMatrix, annot=True)\n",
        "print(classification_report(testing_Y, pridiction))"
      ],
      "metadata": {
        "colab": {
          "base_uri": "https://localhost:8080/",
          "height": 446
        },
        "id": "WLOVXfTC7Xcd",
        "outputId": "648ecfea-609a-4341-fed4-60d7bdcceb4a"
      },
      "execution_count": 87,
      "outputs": [
        {
          "output_type": "stream",
          "name": "stdout",
          "text": [
            "                 precision    recall  f1-score   support\n",
            "\n",
            "    Iris-setosa       1.00      1.00      1.00         9\n",
            "Iris-versicolor       1.00      0.94      0.97        16\n",
            " Iris-virginica       0.83      1.00      0.91         5\n",
            "\n",
            "       accuracy                           0.97        30\n",
            "      macro avg       0.94      0.98      0.96        30\n",
            "   weighted avg       0.97      0.97      0.97        30\n",
            "\n"
          ]
        },
        {
          "output_type": "display_data",
          "data": {
            "text/plain": [
              "<Figure size 432x288 with 2 Axes>"
            ],
            "image/png": "[encoded data removed]"
          },
          "metadata": {
            "needs_background": "light"
          }
        }
      ]
    },
    {
      "cell_type": "markdown",
      "source": [
        "#Manually Doing KNN"
      ],
      "metadata": {
        "id": "c83sDhfzKJvR"
      }
    },
    {
      "cell_type": "code",
      "source": [
        "def Euclidean_Distance(inputData, query):\n",
        "  return (np.sqrt(np.sum(((inputData - query)**2), 1))).to_numpy()\n",
        "\n",
        "def KNN_Pridiction(trainX, trainY, testX, testY, K):\n",
        "  result_Y = list()\n",
        "  for i in range(len(testY)):\n",
        "    sorted_Index = Euclidean_Distance(trainX, testX.iloc[i]).argpartition(K)\n",
        "    unique_Values, counts = np.unique((trainY.iloc[sorted_Index[(range(K))]].to_numpy()), return_counts = True)\n",
        "    result_Y.append(unique_Values[np.argmax(counts)])\n",
        "  return result_Y"
      ],
      "metadata": {
        "id": "GNA0ER01zb2W"
      },
      "execution_count": 88,
      "outputs": []
    },
    {
      "cell_type": "code",
      "source": [
        "def KFold(dataset, K):\n",
        "  KFold_Value = 5\n",
        "  InstancesIn_Fold = len(Dataset)//KFold_Value\n",
        "\n",
        "  Fold1 = dataset.iloc[:InstancesIn_Fold, :].reset_index(drop=True)\n",
        "  Fold2 = dataset.iloc[InstancesIn_Fold : InstancesIn_Fold*2 , :].reset_index(drop=True)\n",
        "  Fold3 = dataset.iloc[InstancesIn_Fold*2 : InstancesIn_Fold*3 , :].reset_index(drop=True)\n",
        "  Fold4 = dataset.iloc[InstancesIn_Fold*3 : InstancesIn_Fold*4 , :].reset_index(drop=True)\n",
        "  Fold5 = dataset.iloc[InstancesIn_Fold*4 : InstancesIn_Fold*5, :].reset_index(drop=True)\n",
        "\n",
        "  Fold_List = [Fold1, Fold2, Fold3, Fold4, Fold5]\n",
        "  acclist = list()\n",
        "\n",
        "  for c in range(KFold_Value):\n",
        "    TrainingData = pd.concat([x for x in Fold_List if True in (np.where(x != Fold_List[c], True, False))])\n",
        "    TrainingData = TrainingData.reset_index(drop=True)\n",
        "    TestingData = Fold_List[c]\n",
        "    Conf_matrix = confusion_matrix(TestingData.iloc[:,-1], KNN_Pridiction(TrainingData.iloc[:,:-1], TrainingData.iloc[:,-1], TestingData.iloc[:,:-1], TestingData.iloc[:,-1], K))\n",
        "    acclist.append(np.round(((Conf_matrix[0,0] + Conf_matrix[1,1] + Conf_matrix[2,2])/(np.sum(Conf_matrix)) * 100),2))\n",
        " \n",
        "  return np.average(acclist)"
      ],
      "metadata": {
        "id": "x_uEXUnm1GUA"
      },
      "execution_count": 89,
      "outputs": []
    },
    {
      "cell_type": "code",
      "source": [
        "Klist = list(range(1,46,2))\n",
        "K_accuracy = list()\n",
        "for K in Klist:\n",
        "  # predicted_Y = KNN_Pridiction(training_X, training_Y, testing_X, testing_Y, K)\n",
        "  K_accuracy.append(KFold(Dataset, K))\n",
        "  # matrix = Confusion_Matrix(testing_Y, predicted_Y)\n",
        "  # K_accuracy.append(np.round((((matrix[0,0)] + matrix[1,1])/np.sum(matrix)) * 100), 2))\n",
        "\n",
        "print(K_accuracy)\n",
        "plt.plot([str(x) for x in Klist], K_accuracy)\n",
        "plt.xlabel('K')\n",
        "plt.ylabel('Accuracy')\n",
        "plt.title('Comparing Change in Accuracy w.r.t K')\n",
        "plt.show()"
      ],
      "metadata": {
        "colab": {
          "base_uri": "https://localhost:8080/",
          "height": 333
        },
        "id": "Qi2QdRzLzj49",
        "outputId": "3ddf68da-1b73-446a-85d3-0b82e4afdcf9"
      },
      "execution_count": 90,
      "outputs": [
        {
          "output_type": "stream",
          "name": "stdout",
          "text": [
            "[96.0, 96.0, 96.668, 96.00200000000001, 96.00200000000001, 96.00200000000001, 96.00200000000001, 96.668, 97.334, 96.00200000000001, 92.668, 94.0, 94.00200000000001, 95.334, 95.334, 94.0, 95.334, 95.334, 96.0, 96.0, 94.666, 94.0, 92.66399999999999]\n"
          ]
        },
        {
          "output_type": "display_data",
          "data": {
            "text/plain": [
              "<Figure size 432x288 with 1 Axes>"
            ],
            "image/png": "[encoded data removed]"
          },
          "metadata": {
            "needs_background": "light"
          }
        }
      ]
    },
    {
      "cell_type": "code",
      "source": [
        "K=Klist[np.argmax(K_accuracy)] #best K\n",
        "predicted_Y = KNN_Pridiction(training_X, training_Y, testing_X, testing_Y, K)"
      ],
      "metadata": {
        "id": "xm6BDbnmz2p2"
      },
      "execution_count": 91,
      "outputs": []
    },
    {
      "cell_type": "code",
      "source": [
        "matrix = confusion_matrix(testing_Y, np.array(predicted_Y))\n",
        "sns.heatmap(matrix, annot=True)\n",
        "Accuracy = (np.round((((matrix[0,0] + matrix[1,1] + matrix[2,2])/np.sum(matrix)) * 100), 2))\n",
        "\n",
        "print(f\"=========================\\nWhen K = {K}:\\nAccuracy :{Accuracy}\")\n",
        "print(f\"\\n*****For Class 0*****\")\n",
        "tp0 = matrix[0,0]\n",
        "fp0 = matrix[0,1] + matrix[0,2]\n",
        "tn0 = matrix[1,1] + matrix[2,2]\n",
        "fn0 = matrix[1,0] + matrix[2,0] + matrix[1,2] + matrix[2,1]\n",
        "print(f\"True Positive : {tp0}\")\n",
        "print(f\"False Positive : {fp0}\")\n",
        "print(f\"True Negative : {tn0}\")\n",
        "print(f\"False Negative : {fn0}\")\n",
        "recall0 = tp0/(fn0+tp0)\n",
        "pricision0 = tp0/(fp0+tp0)\n",
        "f1score0 = (2*recall0*pricision0)/(pricision0+recall0)\n",
        "print(f\"Recall : {recall0}\")\n",
        "print(f\"Pricision : {pricision0}\")\n",
        "print(f\"F1score : {f1score0}\")\n",
        "\n",
        "print(f\"\\n*****For Class 1*****\")\n",
        "tp1 = matrix[1,1]\n",
        "fp1 = matrix[1,0] + matrix[1,2]\n",
        "tn1 = matrix[0,0] + matrix[2,2]\n",
        "fn1 =matrix[0,1] + matrix[0,2]+matrix[1,0]+matrix[1,2]\n",
        "print(f\"True Positive : {tp1}\")\n",
        "print(f\"False Positive : {fp1}\")\n",
        "print(f\"True Negative : {tn1}\")\n",
        "print(f\"False Negative : {fn1}\")\n",
        "recall1 = tp1/(fn1+tp1)\n",
        "pricision1 = tp1/(fp1+tp1)\n",
        "f1score1 = (2*recall1*pricision1)/(pricision1+recall1)\n",
        "print(f\"Recall : {recall1}\")\n",
        "print(f\"Pricision : {pricision1}\")\n",
        "print(f\"F1score : {f1score1}\")\n",
        "\n",
        "\n",
        "print(f\"\\n*****For Class 2*****\")\n",
        "tp2 = matrix[2,2]\n",
        "fp2 = matrix[2,0] + matrix[2,1]\n",
        "tn2 = matrix[0,0] + matrix[1,1]\n",
        "fn2 = matrix[0,1] + matrix[0,2]+matrix[1,0]+matrix[1,2]\n",
        "print(f\"True Positive : {tp2}\")\n",
        "print(f\"False Positive : {fp2}\")\n",
        "print(f\"True Negative : {tn2}\")\n",
        "print(f\"False Negative : {fn2}\")\n",
        "recall2 = tp2/(fn2+tp2)\n",
        "pricision2 = tp2/(fp2+tp2)\n",
        "f1score2 = (2*recall2*pricision2)/(pricision2+recall2)\n",
        "print(f\"Recall : {recall2}\")\n",
        "print(f\"Pricision : {pricision2}\")\n",
        "print(f\"F1score : {f1score2}\")"
      ],
      "metadata": {
        "colab": {
          "base_uri": "https://localhost:8080/",
          "height": 810
        },
        "id": "iAEZOKRGz5bp",
        "outputId": "5da86f20-3d1c-46f5-aaa5-c16b6cbdb8ef"
      },
      "execution_count": 92,
      "outputs": [
        {
          "output_type": "stream",
          "name": "stdout",
          "text": [
            "=========================\n",
            "When K = 17:\n",
            "Accuracy :96.67\n",
            "\n",
            "*****For Class 0*****\n",
            "True Positive : 9\n",
            "False Positive : 0\n",
            "True Negative : 20\n",
            "False Negative : 1\n",
            "Recall : 0.9\n",
            "Pricision : 1.0\n",
            "F1score : 0.9473684210526316\n",
            "\n",
            "*****For Class 1*****\n",
            "True Positive : 15\n",
            "False Positive : 1\n",
            "True Negative : 14\n",
            "False Negative : 1\n",
            "Recall : 0.9375\n",
            "Pricision : 0.9375\n",
            "F1score : 0.9375\n",
            "\n",
            "*****For Class 2*****\n",
            "True Positive : 5\n",
            "False Positive : 0\n",
            "True Negative : 24\n",
            "False Negative : 1\n",
            "Recall : 0.8333333333333334\n",
            "Pricision : 1.0\n",
            "F1score : 0.9090909090909091\n"
          ]
        },
        {
          "output_type": "display_data",
          "data": {
            "text/plain": [
              "<Figure size 432x288 with 2 Axes>"
            ],
            "image/png": "[encoded data removed]"
          },
          "metadata": {
            "needs_background": "light"
          }
        }
      ]
    }
  ]
}